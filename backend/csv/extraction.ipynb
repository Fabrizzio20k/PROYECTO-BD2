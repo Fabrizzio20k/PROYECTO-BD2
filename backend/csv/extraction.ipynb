{
 "cells": [
  {
   "cell_type": "code",
   "execution_count": 18,
   "metadata": {},
   "outputs": [
    {
     "name": "stdout",
     "output_type": "stream",
     "text": [
      "/Users/edgarchambilla/Desktop/UTEC_CODE/BD/PROYECTO-BD2/backend/csv/spotify_songs_25000.csv\n",
      "New CSV file created with non-null 'title' and 'article' columns at: /Users/edgarchambilla/Desktop/UTEC_CODE/BD/PROYECTO-BD2/backend/csv/spotify_songs_1000.csv\n",
      "/Users/edgarchambilla/Desktop/UTEC_CODE/BD/PROYECTO-BD2/backend/csv/spotify_songs_1000.csv\n",
      "New CSV file created with non-null 'title' and 'article' columns at: /Users/edgarchambilla/Desktop/UTEC_CODE/BD/PROYECTO-BD2/backend/csv/spotify_songs_2000.csv\n",
      "/Users/edgarchambilla/Desktop/UTEC_CODE/BD/PROYECTO-BD2/backend/csv/spotify_songs_2000.csv\n",
      "New CSV file created with non-null 'title' and 'article' columns at: /Users/edgarchambilla/Desktop/UTEC_CODE/BD/PROYECTO-BD2/backend/csv/spotify_songs_4000.csv\n",
      "/Users/edgarchambilla/Desktop/UTEC_CODE/BD/PROYECTO-BD2/backend/csv/spotify_songs_4000.csv\n",
      "New CSV file created with non-null 'title' and 'article' columns at: /Users/edgarchambilla/Desktop/UTEC_CODE/BD/PROYECTO-BD2/backend/csv/spotify_songs_8000.csv\n",
      "/Users/edgarchambilla/Desktop/UTEC_CODE/BD/PROYECTO-BD2/backend/csv/spotify_songs_8000.csv\n",
      "New CSV file created with non-null 'title' and 'article' columns at: /Users/edgarchambilla/Desktop/UTEC_CODE/BD/PROYECTO-BD2/backend/csv/spotify_songs_16000.csv\n",
      "/Users/edgarchambilla/Desktop/UTEC_CODE/BD/PROYECTO-BD2/backend/csv/spotify_songs_16000.csv\n",
      "New CSV file created with non-null 'title' and 'article' columns at: /Users/edgarchambilla/Desktop/UTEC_CODE/BD/PROYECTO-BD2/backend/csv/spotify_songs_25000.csv\n"
     ]
    }
   ],
   "source": [
    "import pandas as pd\n",
    "\n",
    "data_size = [1000, 2000, 4000, 8000, 16000, 25000]\n",
    "for i in data_size:\n",
    "    print(output_file_path)\n",
    "    # Path to your original CSV file\n",
    "    input_file_path = '/Users/edgarchambilla/Desktop/UTEC_CODE/BD/PROYECTO-BD2/backend/csv/spotify_songs.csv'\n",
    "\n",
    "    # Path to the new CSV file\n",
    "    output_file_path = f'/Users/edgarchambilla/Desktop/UTEC_CODE/BD/PROYECTO-BD2/backend/csv/spotify_songs_{i}.csv'\n",
    "    \n",
    "    # Read the first i rows of the CSV file\n",
    "    df = pd.read_csv(input_file_path, nrows=i)\n",
    "\n",
    "    # Select the 'track_id','track_name','track_artist','track_album_name','lyrics' columns\n",
    "    df_selected = df[['track_id','track_name', 'track_artist','track_album_name','lyrics']]\n",
    "\n",
    "    # Write the selected data to a new CSV file\n",
    "    df_selected.to_csv(output_file_path, index=False)\n",
    "\n",
    "    print(f\"New CSV file created with non-null 'title' and 'article' columns at: {output_file_path}\")\n"
   ]
  },
  {
   "cell_type": "code",
   "execution_count": 13,
   "metadata": {},
   "outputs": [
    {
     "data": {
      "text/plain": [
       "25000"
      ]
     },
     "execution_count": 13,
     "metadata": {},
     "output_type": "execute_result"
    }
   ],
   "source": [
    "df.size"
   ]
  },
  {
   "cell_type": "code",
   "execution_count": 17,
   "metadata": {},
   "outputs": [
    {
     "name": "stdout",
     "output_type": "stream",
     "text": [
      "/Users/edgarchambilla/Desktop/UTEC_CODE/BD/PROYECTO-BD2/backend/csv/spotify_songs_1000.csv\n",
      "/Users/edgarchambilla/Desktop/UTEC_CODE/BD/PROYECTO-BD2/backend/csv/spotify_songs_2000.csv\n",
      "/Users/edgarchambilla/Desktop/UTEC_CODE/BD/PROYECTO-BD2/backend/csv/spotify_songs_4000.csv\n",
      "/Users/edgarchambilla/Desktop/UTEC_CODE/BD/PROYECTO-BD2/backend/csv/spotify_songs_8000.csv\n",
      "/Users/edgarchambilla/Desktop/UTEC_CODE/BD/PROYECTO-BD2/backend/csv/spotify_songs_16000.csv\n",
      "/Users/edgarchambilla/Desktop/UTEC_CODE/BD/PROYECTO-BD2/backend/csv/spotify_songs_25000.csv\n"
     ]
    }
   ],
   "source": [
    "list = [1000, 2000, 4000, 8000, 16000, 25000]\n",
    "for i in list:\n",
    "    output_file_path = f'/Users/edgarchambilla/Desktop/UTEC_CODE/BD/PROYECTO-BD2/backend/csv/spotify_songs_{i}.csv'\n",
    "    print(output_file_path)"
   ]
  },
  {
   "cell_type": "code",
   "execution_count": 8,
   "metadata": {},
   "outputs": [
    {
     "ename": "KeyError",
     "evalue": "['title', 'article']",
     "output_type": "error",
     "traceback": [
      "\u001b[0;31m---------------------------------------------------------------------------\u001b[0m",
      "\u001b[0;31mKeyError\u001b[0m                                  Traceback (most recent call last)",
      "\u001b[0;32m/var/folders/_h/xf2n5zjd6_35rgryb9364d_w0000gn/T/ipykernel_52066/1562078705.py\u001b[0m in \u001b[0;36m?\u001b[0;34m()\u001b[0m\n\u001b[1;32m      1\u001b[0m \u001b[0;31m# Select the 'title' and 'article' columns\u001b[0m\u001b[0;34m\u001b[0m\u001b[0;34m\u001b[0m\u001b[0m\n\u001b[1;32m      2\u001b[0m \u001b[0mdf_selected\u001b[0m \u001b[0;34m=\u001b[0m \u001b[0mdf\u001b[0m\u001b[0;34m[\u001b[0m\u001b[0;34m[\u001b[0m\u001b[0;34m'track_id'\u001b[0m\u001b[0;34m,\u001b[0m\u001b[0;34m'track_name'\u001b[0m\u001b[0;34m,\u001b[0m \u001b[0;34m'track_artist'\u001b[0m\u001b[0;34m,\u001b[0m\u001b[0;34m'track_album_name'\u001b[0m\u001b[0;34m,\u001b[0m\u001b[0;34m'lyrics'\u001b[0m\u001b[0;34m]\u001b[0m\u001b[0;34m]\u001b[0m\u001b[0;34m\u001b[0m\u001b[0;34m\u001b[0m\u001b[0m\n\u001b[1;32m      3\u001b[0m \u001b[0;34m\u001b[0m\u001b[0m\n\u001b[1;32m      4\u001b[0m \u001b[0;31m# Drop rows where either 'title' or 'article' is NULL\u001b[0m\u001b[0;34m\u001b[0m\u001b[0;34m\u001b[0m\u001b[0m\n\u001b[0;32m----> 5\u001b[0;31m \u001b[0mdf_filtered\u001b[0m \u001b[0;34m=\u001b[0m \u001b[0mdf_selected\u001b[0m\u001b[0;34m.\u001b[0m\u001b[0mdropna\u001b[0m\u001b[0;34m(\u001b[0m\u001b[0msubset\u001b[0m\u001b[0;34m=\u001b[0m\u001b[0;34m[\u001b[0m\u001b[0;34m'title'\u001b[0m\u001b[0;34m,\u001b[0m \u001b[0;34m'article'\u001b[0m\u001b[0;34m]\u001b[0m\u001b[0;34m)\u001b[0m\u001b[0;34m\u001b[0m\u001b[0;34m\u001b[0m\u001b[0m\n\u001b[0m\u001b[1;32m      6\u001b[0m \u001b[0;34m\u001b[0m\u001b[0m\n\u001b[1;32m      7\u001b[0m \u001b[0;31m# Add an 'id' column\u001b[0m\u001b[0;34m\u001b[0m\u001b[0;34m\u001b[0m\u001b[0m\n\u001b[1;32m      8\u001b[0m \u001b[0mdf_filtered\u001b[0m \u001b[0;34m=\u001b[0m \u001b[0mdf_filtered\u001b[0m\u001b[0;34m.\u001b[0m\u001b[0mreset_index\u001b[0m\u001b[0;34m(\u001b[0m\u001b[0mdrop\u001b[0m\u001b[0;34m=\u001b[0m\u001b[0;32mTrue\u001b[0m\u001b[0;34m)\u001b[0m\u001b[0;34m\u001b[0m\u001b[0;34m\u001b[0m\u001b[0m\n",
      "\u001b[0;32m/opt/anaconda3/lib/python3.11/site-packages/pandas/core/frame.py\u001b[0m in \u001b[0;36m?\u001b[0;34m(self, axis, how, thresh, subset, inplace, ignore_index)\u001b[0m\n\u001b[1;32m   6414\u001b[0m             \u001b[0max\u001b[0m \u001b[0;34m=\u001b[0m \u001b[0mself\u001b[0m\u001b[0;34m.\u001b[0m\u001b[0m_get_axis\u001b[0m\u001b[0;34m(\u001b[0m\u001b[0magg_axis\u001b[0m\u001b[0;34m)\u001b[0m\u001b[0;34m\u001b[0m\u001b[0;34m\u001b[0m\u001b[0m\n\u001b[1;32m   6415\u001b[0m             \u001b[0mindices\u001b[0m \u001b[0;34m=\u001b[0m \u001b[0max\u001b[0m\u001b[0;34m.\u001b[0m\u001b[0mget_indexer_for\u001b[0m\u001b[0;34m(\u001b[0m\u001b[0msubset\u001b[0m\u001b[0;34m)\u001b[0m\u001b[0;34m\u001b[0m\u001b[0;34m\u001b[0m\u001b[0m\n\u001b[1;32m   6416\u001b[0m             \u001b[0mcheck\u001b[0m \u001b[0;34m=\u001b[0m \u001b[0mindices\u001b[0m \u001b[0;34m==\u001b[0m \u001b[0;34m-\u001b[0m\u001b[0;36m1\u001b[0m\u001b[0;34m\u001b[0m\u001b[0;34m\u001b[0m\u001b[0m\n\u001b[1;32m   6417\u001b[0m             \u001b[0;32mif\u001b[0m \u001b[0mcheck\u001b[0m\u001b[0;34m.\u001b[0m\u001b[0many\u001b[0m\u001b[0;34m(\u001b[0m\u001b[0;34m)\u001b[0m\u001b[0;34m:\u001b[0m\u001b[0;34m\u001b[0m\u001b[0;34m\u001b[0m\u001b[0m\n\u001b[0;32m-> 6418\u001b[0;31m                 \u001b[0;32mraise\u001b[0m \u001b[0mKeyError\u001b[0m\u001b[0;34m(\u001b[0m\u001b[0mnp\u001b[0m\u001b[0;34m.\u001b[0m\u001b[0marray\u001b[0m\u001b[0;34m(\u001b[0m\u001b[0msubset\u001b[0m\u001b[0;34m)\u001b[0m\u001b[0;34m[\u001b[0m\u001b[0mcheck\u001b[0m\u001b[0;34m]\u001b[0m\u001b[0;34m.\u001b[0m\u001b[0mtolist\u001b[0m\u001b[0;34m(\u001b[0m\u001b[0;34m)\u001b[0m\u001b[0;34m)\u001b[0m\u001b[0;34m\u001b[0m\u001b[0;34m\u001b[0m\u001b[0m\n\u001b[0m\u001b[1;32m   6419\u001b[0m             \u001b[0magg_obj\u001b[0m \u001b[0;34m=\u001b[0m \u001b[0mself\u001b[0m\u001b[0;34m.\u001b[0m\u001b[0mtake\u001b[0m\u001b[0;34m(\u001b[0m\u001b[0mindices\u001b[0m\u001b[0;34m,\u001b[0m \u001b[0maxis\u001b[0m\u001b[0;34m=\u001b[0m\u001b[0magg_axis\u001b[0m\u001b[0;34m)\u001b[0m\u001b[0;34m\u001b[0m\u001b[0;34m\u001b[0m\u001b[0m\n\u001b[1;32m   6420\u001b[0m \u001b[0;34m\u001b[0m\u001b[0m\n\u001b[1;32m   6421\u001b[0m         \u001b[0;32mif\u001b[0m \u001b[0mthresh\u001b[0m \u001b[0;32mis\u001b[0m \u001b[0;32mnot\u001b[0m \u001b[0mlib\u001b[0m\u001b[0;34m.\u001b[0m\u001b[0mno_default\u001b[0m\u001b[0;34m:\u001b[0m\u001b[0;34m\u001b[0m\u001b[0;34m\u001b[0m\u001b[0m\n",
      "\u001b[0;31mKeyError\u001b[0m: ['title', 'article']"
     ]
    }
   ],
   "source": [
    "\n",
    "\n",
    "# Drop rows where either 'title' or 'article' is NULL\n",
    "df_filtered = df_selected.dropna(subset=['title', 'article'])\n",
    "\n",
    "# Add an 'id' column\n",
    "df_filtered = df_filtered.reset_index(drop=True)\n",
    "df_filtered['id'] = df_filtered.index + 1\n",
    "\n",
    "# Reorder the columns to have 'id' first\n",
    "df_filtered = df_filtered[['id', 'title', 'article']]\n",
    "\n",
    "# Write the filtered data to a new CSV file\n",
    "df_filtered.to_csv(output_file_path, index=False)\n",
    "\n",
    "print(f\"New CSV file created with non-null 'title' and 'article' columns at: {output_file_path}\")"
   ]
  }
 ],
 "metadata": {
  "kernelspec": {
   "display_name": "base",
   "language": "python",
   "name": "python3"
  },
  "language_info": {
   "codemirror_mode": {
    "name": "ipython",
    "version": 3
   },
   "file_extension": ".py",
   "mimetype": "text/x-python",
   "name": "python",
   "nbconvert_exporter": "python",
   "pygments_lexer": "ipython3",
   "version": "3.11.7"
  }
 },
 "nbformat": 4,
 "nbformat_minor": 2
}
