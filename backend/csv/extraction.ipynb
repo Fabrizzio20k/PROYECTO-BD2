{
 "cells": [
  {
   "cell_type": "code",
   "execution_count": 18,
   "metadata": {},
   "outputs": [
    {
     "name": "stdout",
     "output_type": "stream",
     "text": [
      "/Users/edgarchambilla/Desktop/UTEC_CODE/BD/PROYECTO-BD2/backend/csv/spotify_songs_25000.csv\n",
      "New CSV file created with non-null 'title' and 'article' columns at: /Users/edgarchambilla/Desktop/UTEC_CODE/BD/PROYECTO-BD2/backend/csv/spotify_songs_1000.csv\n",
      "/Users/edgarchambilla/Desktop/UTEC_CODE/BD/PROYECTO-BD2/backend/csv/spotify_songs_1000.csv\n",
      "New CSV file created with non-null 'title' and 'article' columns at: /Users/edgarchambilla/Desktop/UTEC_CODE/BD/PROYECTO-BD2/backend/csv/spotify_songs_2000.csv\n",
      "/Users/edgarchambilla/Desktop/UTEC_CODE/BD/PROYECTO-BD2/backend/csv/spotify_songs_2000.csv\n",
      "New CSV file created with non-null 'title' and 'article' columns at: /Users/edgarchambilla/Desktop/UTEC_CODE/BD/PROYECTO-BD2/backend/csv/spotify_songs_4000.csv\n",
      "/Users/edgarchambilla/Desktop/UTEC_CODE/BD/PROYECTO-BD2/backend/csv/spotify_songs_4000.csv\n",
      "New CSV file created with non-null 'title' and 'article' columns at: /Users/edgarchambilla/Desktop/UTEC_CODE/BD/PROYECTO-BD2/backend/csv/spotify_songs_8000.csv\n",
      "/Users/edgarchambilla/Desktop/UTEC_CODE/BD/PROYECTO-BD2/backend/csv/spotify_songs_8000.csv\n",
      "New CSV file created with non-null 'title' and 'article' columns at: /Users/edgarchambilla/Desktop/UTEC_CODE/BD/PROYECTO-BD2/backend/csv/spotify_songs_16000.csv\n",
      "/Users/edgarchambilla/Desktop/UTEC_CODE/BD/PROYECTO-BD2/backend/csv/spotify_songs_16000.csv\n",
      "New CSV file created with non-null 'title' and 'article' columns at: /Users/edgarchambilla/Desktop/UTEC_CODE/BD/PROYECTO-BD2/backend/csv/spotify_songs_25000.csv\n"
     ]
    }
   ],
   "source": [
    "import pandas as pd\n",
    "\n",
    "data_size = [1000, 2000, 4000, 8000, 16000, 25000]\n",
    "for i in data_size:\n",
    "    print(output_file_path)\n",
    "    # Path to your original CSV file\n",
    "    input_file_path = '/Users/edgarchambilla/Desktop/UTEC_CODE/BD/PROYECTO-BD2/backend/csv/spotify_songs.csv'\n",
    "\n",
    "    # Path to the new CSV file\n",
    "    output_file_path = f'/Users/edgarchambilla/Desktop/UTEC_CODE/BD/PROYECTO-BD2/backend/csv/spotify_songs_{i}.csv'\n",
    "    \n",
    "    # Read the first i rows of the CSV file\n",
    "    df = pd.read_csv(input_file_path, nrows=i)\n",
    "\n",
    "    # Select the 'track_id','track_name','track_artist','track_album_name','lyrics' columns\n",
    "    df_selected = df[['track_id','track_name', 'track_artist','track_album_name','lyrics']]\n",
    "\n",
    "    # Write the selected data to a new CSV file\n",
    "    df_selected.to_csv(output_file_path, index=False)\n",
    "\n",
    "    print(f\"New CSV file created with non-null 'title' and 'article' columns at: {output_file_path}\")\n"
   ]
  },
  {
   "cell_type": "code",
   "execution_count": 13,
   "metadata": {},
   "outputs": [
    {
     "data": {
      "text/plain": [
       "25000"
      ]
     },
     "execution_count": 13,
     "metadata": {},
     "output_type": "execute_result"
    }
   ],
   "source": [
    "df.size"
   ]
  }
 ],
 "metadata": {
  "kernelspec": {
   "display_name": "base",
   "language": "python",
   "name": "python3"
  },
  "language_info": {
   "codemirror_mode": {
    "name": "ipython",
    "version": 3
   },
   "file_extension": ".py",
   "mimetype": "text/x-python",
   "name": "python",
   "nbconvert_exporter": "python",
   "pygments_lexer": "ipython3",
   "version": "3.11.7"
  }
 },
 "nbformat": 4,
 "nbformat_minor": 2
}
